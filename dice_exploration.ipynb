{
 "cells": [
  {
   "cell_type": "code",
   "id": "initial_id",
   "metadata": {
    "collapsed": true,
    "ExecuteTime": {
     "end_time": "2024-07-12T23:07:08.008695Z",
     "start_time": "2024-07-12T23:06:46.168691Z"
    }
   },
   "source": [
    "import pandas as pd\n",
    "import numpy as np\n",
    "from itertools import product\n",
    "from math import comb\n",
    "from scipy.stats import binom\n",
    "\n",
    "from make_probabilities import generate_pdf_and_ccdf"
   ],
   "outputs": [],
   "execution_count": 2
  },
  {
   "metadata": {
    "ExecuteTime": {
     "end_time": "2024-07-12T23:07:08.017226Z",
     "start_time": "2024-07-12T23:07:08.010810Z"
    }
   },
   "cell_type": "code",
   "source": [
    "# Define the dice values\n",
    "white = [0, 0, 1, 1, 2, 2]\n",
    "yellow = [0, 0, 1, 2, 3, 3]\n",
    "red = [0, 0, 2, 3, 3, 4]\n",
    "black = [0, 0, 3, 3, 4, 5]\n",
    "regular = [1, 2, 3, 4, 5, 6]\n",
    "critical = [False, False, False, False, False, True]"
   ],
   "id": "fb963283df48cffd",
   "outputs": [],
   "execution_count": 3
  },
  {
   "metadata": {
    "ExecuteTime": {
     "end_time": "2024-07-12T23:12:48.155936Z",
     "start_time": "2024-07-12T23:12:48.147269Z"
    }
   },
   "cell_type": "code",
   "source": [
    "def analyze_dice_rolls(dice):\n",
    "    \"\"\"\n",
    "    Figure out every possible combination of the dice rolls and determine the expected value, miss rate, pdf and ccdf from that.\n",
    "    Note that we are considering a miss to be when at least 2 dice show a 0. But we are not considering criticals here.\n",
    "    :param dice: \n",
    "    :return: \n",
    "    \"\"\"\n",
    "    sum_array = []\n",
    "    miss_array = []\n",
    "\n",
    "    for indices in product(range(6), repeat=len(dice)):\n",
    "        values = np.array([dice[i][index] for i, index in enumerate(indices)])\n",
    "        miss = np.sum(values == 0) >= 2\n",
    "        miss_array.append(miss)\n",
    "        if miss:\n",
    "            sum_array.append(0)\n",
    "        else:\n",
    "            sum_array.append(np.sum(values))\n",
    "\n",
    "    return {\n",
    "            \"expected_value\": np.mean(sum_array),\n",
    "            \"miss_probability\": np.mean(miss_array),\n",
    "            \"result_df\": generate_pdf_and_ccdf(sum_array),\n",
    "        }\n",
    "\n",
    "\n",
    "dice = [yellow, yellow] \n",
    "results = analyze_dice_rolls(dice)\n",
    "\n",
    "print(f\"% Chance of a good roll: {1-results['miss_probability']:.1%}\")\n",
    "print(f\"Expected value of the sums: {results['expected_value']}\")"
   ],
   "id": "7baf7ce7905f72c8",
   "outputs": [
    {
     "name": "stdout",
     "output_type": "stream",
     "text": [
      "% Chance of a good roll: 88.9%\n",
      "Expected value of the sums: 3.0\n"
     ]
    }
   ],
   "execution_count": 12
  },
  {
   "metadata": {
    "ExecuteTime": {
     "end_time": "2024-07-12T23:32:17.076980Z",
     "start_time": "2024-07-12T23:32:17.072071Z"
    }
   },
   "cell_type": "code",
   "source": "binom.sf(1, 5, 1/3)",
   "id": "903b0aa3df7acef1",
   "outputs": [
    {
     "data": {
      "text/plain": [
       "0.5390946502057613"
      ]
     },
     "execution_count": 36,
     "metadata": {},
     "output_type": "execute_result"
    }
   ],
   "execution_count": 36
  },
  {
   "metadata": {
    "ExecuteTime": {
     "end_time": "2024-07-12T23:27:46.702718Z",
     "start_time": "2024-07-12T23:27:46.698154Z"
    }
   },
   "cell_type": "code",
   "source": "binom.cdf(1, 2, 1/3)",
   "id": "b0f9d59a30d772a3",
   "outputs": [
    {
     "data": {
      "text/plain": [
       "0.8888888888888888"
      ]
     },
     "execution_count": 31,
     "metadata": {},
     "output_type": "execute_result"
    }
   ],
   "execution_count": 31
  },
  {
   "metadata": {
    "ExecuteTime": {
     "end_time": "2024-07-12T23:08:27.727702Z",
     "start_time": "2024-07-12T23:08:27.718431Z"
    }
   },
   "cell_type": "code",
   "source": [
    "def likelihood_of_getting_a_miss(number_of_dice, rerolls=0):\n",
    "    \"\"\"\n",
    "    Calculate the likelihood of getting a miss with a given number of dice and rerolls.\n",
    "    :param number_of_dice: \n",
    "    :param rerolls: \n",
    "    :return: \n",
    "    \"\"\"\n",
    "    number_of_blanks_needed_for_a_miss = 2\n",
    "    probability_of_a_blank = 1/3\n",
    "    \n",
    "    number_of_dice += rerolls\n",
    "    number_of_blanks_needed_for_a_miss += rerolls\n",
    "    \n",
    "    probability_of_no_miss = binom.cdf(number_of_blanks_needed_for_a_miss-1, number_of_dice, probability_of_a_blank)\n",
    "    probability_of_missing = 1 - probability_of_no_miss\n",
    "    return probability_of_missing\n",
    "\n",
    "print(f\"Probability of a miss: {likelihood_of_getting_a_miss(2, 0):.3%}\")"
   ],
   "id": "e2cbea168d4b7550",
   "outputs": [
    {
     "name": "stdout",
     "output_type": "stream",
     "text": [
      "Probability of a miss: 11.111%\n"
     ]
    }
   ],
   "execution_count": 5
  }
 ],
 "metadata": {
  "kernelspec": {
   "display_name": "Python 3",
   "language": "python",
   "name": "python3"
  },
  "language_info": {
   "codemirror_mode": {
    "name": "ipython",
    "version": 2
   },
   "file_extension": ".py",
   "mimetype": "text/x-python",
   "name": "python",
   "nbconvert_exporter": "python",
   "pygments_lexer": "ipython2",
   "version": "2.7.6"
  }
 },
 "nbformat": 4,
 "nbformat_minor": 5
}
